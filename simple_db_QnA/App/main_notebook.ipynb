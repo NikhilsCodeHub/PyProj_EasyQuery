{
 "cells": [
  {
   "cell_type": "code",
   "execution_count": 1,
   "id": "002aa6e0",
   "metadata": {},
   "outputs": [
    {
     "name": "stdout",
     "output_type": "stream",
     "text": [
      "Current working directory: /Users/nikhilw/Documents/Devel/PyProj_SQLAgent/simple_db_QnA/App\n"
     ]
    }
   ],
   "source": [
    "import os\n",
    "print(\"Current working directory:\", os.getcwd())"
   ]
  },
  {
   "cell_type": "code",
   "execution_count": 17,
   "id": "f8f1fd0b",
   "metadata": {},
   "outputs": [
    {
     "name": "stdout",
     "output_type": "stream",
     "text": [
      "sqlite\n",
      "['Cost_Of_Care', 'Diseases', 'Diseases_By_Channel', 'Drugs', 'Member_Costs', 'Members', 'Pharmacies']\n"
     ]
    },
    {
     "data": {
      "text/plain": [
       "\"[('Curr Rank', 'Prev Rank', 'Drug Name', 'Category', 'Utilizers', 'Claims', 'Plan Cost', '% of Total Plan Cost', 'Plan Cost PMPM', 'Plan Cost/Claim*', 'Member Cost/Claim', 'Member Cost Share', 'Prev Utilizers', 'Prev Claims', 'Prev Plan Cost', 'Claims PMPM Trend*', 'Plan Cost/Claim Trend*', 'Plan Cost PMPM Trend', 'Plan Cost Trend', 'Srx'), (1, 18, 'MOUNJARO', 'Diabetes', 7812, 54218, 51838552.35, 0.062, 9.16, 900.13, 33.83, 0.034, 5216, 7080, 6296048.11, 6.073, 0.042, 6.371, 7.234, 'N'), (2, 1, 'HUMIRA', 'Inflammatory Disorder', 899, 7057, 50498194.86, 0.06, 8.92, 7148.67, 927.4, 0.115, 920, 7150, 45587843.11, -0.116, 0.121, -0.008, 0.108, 'Y'), (3, 3, 'STELARA', 'Inflammatory Disorder', 276, 1188, 23055438.25, 0.027, 4.07, 10829.23, 2145.43, 0.1, 251, 1118, 21234652.16, -0.068, 0.043, -0.028, 0.086, 'Y'), (4, 4, 'TRULICITY', 'Diabetes', 3533, 19569, 20053132.6, 0.024, 3.54, 808.72, 41.56, 0.039, 3859, 19037, 20644961.04, -0.163, 0.038, -0.13, -0.029, 'N'), (5, 5, 'BIKTARVY', 'HIV Infection', 610, 3716, 19593281.98, 0.023, 3.46, 3513.23, 336.07, 0.06, 562, 3521, 16967417.94, -0.025, 0.06, 0.034, 0.155, 'N'), (6, 7, 'DUPIXENT', 'Skin - Immunosuppressant', 953, 6724, 18950695.46, 0.023, 3.35, 2734.19, 931.83, 0.248, 667, 4866, 12741533.63, 0.261, 0.056, 0.332, 0.487, 'Y'), (7, 9, 'SKYRIZI', 'Inflammatory Disorder', 349, 1115, 18347073.4, 0.022, 3.24, 6339.69, 2973.38, 0.153, 226, 710, 10887503.22, 0.413, 0.067, 0.509, 0.685, 'Y'), (8, 2, 'OZEMPIC', 'Diabetes', 2682, 13639, 15013218.24, 0.018, 2.65, 796.33, 89.84, 0.075, 7252, 30330, 31287611.79, -0.593, 0.055, -0.57, -0.52, 'N'), (9, 6, 'ENBREL', 'Inflammatory Disorder', 305, 2384, 13794762.57, 0.016, 2.44, 5767.04, 1077.05, 0.157, 332, 2563, 12890636.84, -0.166, 0.149, -0.042, 0.07, 'Y')]\""
      ]
     },
     "execution_count": 17,
     "metadata": {},
     "output_type": "execute_result"
    }
   ],
   "source": [
    "from langchain_community.utilities import SQLDatabase\n",
    "\n",
    "db = SQLDatabase.from_uri(\"sqlite:///../data/Sample_DB.db\")\n",
    "print(db.dialect)\n",
    "print(db.get_usable_table_names())\n",
    "db.run(\"SELECT name FROM sqlite_master LIMIT 10;\")\n",
    "db.run(\"SELECT * FROM Drugs LIMIT 10;\")"
   ]
  },
  {
   "cell_type": "code",
   "execution_count": 18,
   "id": "6d25b60a",
   "metadata": {},
   "outputs": [
    {
     "data": {
      "text/plain": [
       "['Cost_Of_Care',\n",
       " 'Diseases',\n",
       " 'Diseases_By_Channel',\n",
       " 'Drugs',\n",
       " 'Member_Costs',\n",
       " 'Members',\n",
       " 'Pharmacies']"
      ]
     },
     "execution_count": 18,
     "metadata": {},
     "output_type": "execute_result"
    }
   ],
   "source": [
    "db.get_usable_table_names()"
   ]
  },
  {
   "cell_type": "code",
   "execution_count": null,
   "id": "87d6cd1b",
   "metadata": {},
   "outputs": [],
   "source": [
    "import getpass\n",
    "import os\n",
    "\n",
    "if not os.environ.get(\"OPENAI_API_KEY\"):\n",
    "\tos.environ[\"OPENAI_API_KEY\"] = getpass.getpass(\"Enter API key for OpenAI: \")\n",
    "\n",
    "from langchain.chat_models import init_chat_model\n",
    "\n",
    "llm = init_chat_model(\"gpt-4o-mini\", model_provider=\"openai\")\n",
    "\n",
    "try:\n",
    "\tresponse = llm.invoke(\"What is the capital of India?\")\n",
    "\tprint(\"Response:\", response)\n",
    "except Exception as e:\n",
    "\tprint(\"Error connecting to OPENAI API:\", e)\n",
    "\tprint(\"Please check your internet connection, firewall settings, and API key.\")\n",
    "print(\"llm:\", llm)\n"
   ]
  },
  {
   "cell_type": "code",
   "execution_count": null,
   "id": "089789c8",
   "metadata": {},
   "outputs": [],
   "source": [
    "from typing_extensions import TypedDict\n",
    "\n",
    "\n",
    "class State(TypedDict):\n",
    "    question: str # User's question to be answered.\n",
    "    query: str # SQL query generated from the question.\n",
    "    result: str # Result of the query execution in json.\n",
    "    answer: str  # Answer to the question based on the query result.\n",
    "    columns: list[str]  # List of column names in the result.\n",
    "    followup: list[str] # List of followup questions "
   ]
  }
 ],
 "metadata": {
  "kernelspec": {
   "display_name": ".venv",
   "language": "python",
   "name": "python3"
  },
  "language_info": {
   "codemirror_mode": {
    "name": "ipython",
    "version": 3
   },
   "file_extension": ".py",
   "mimetype": "text/x-python",
   "name": "python",
   "nbconvert_exporter": "python",
   "pygments_lexer": "ipython3",
   "version": "3.10.9"
  }
 },
 "nbformat": 4,
 "nbformat_minor": 5
}
