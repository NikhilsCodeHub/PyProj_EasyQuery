{
 "cells": [
  {
   "cell_type": "code",
   "execution_count": 1,
   "id": "002aa6e0",
   "metadata": {},
   "outputs": [
    {
     "name": "stdout",
     "output_type": "stream",
     "text": [
      "Current working directory: /Users/nikhilw/Documents/Devel/PyProj_SQLAgent/test-notebooks\n"
     ]
    }
   ],
   "source": [
    "import os\n",
    "print(\"Current working directory:\", os.getcwd())"
   ]
  },
  {
   "cell_type": "code",
   "execution_count": 6,
   "id": "f8f1fd0b",
   "metadata": {},
   "outputs": [
    {
     "name": "stdout",
     "output_type": "stream",
     "text": [
      "sqlite\n",
      "\n",
      "CREATE TABLE pharmacy_claims_drug_provider_view (\n",
      "\tclient_id TEXT, \n",
      "\tmember_id TEXT, \n",
      "\tfill_dt TEXT, \n",
      "\tclaim_nbr TEXT, \n",
      "\tnet_mony REAL, \n",
      "\tcopay_mony REAL, \n",
      "\tadmin_mony REAL, \n",
      "\tthird_party_mony REAL, \n",
      "\tquantity REAL, \n",
      "\tdays_supply INTEGER, \n",
      "\tasp REAL, \n",
      "\tasp_use INTEGER, \n",
      "\tawp REAL, \n",
      "\tdispense_fee REAL, \n",
      "\tingredient_cost REAL, \n",
      "\tsales_tax REAL, \n",
      "\tclaim_id INTEGER, \n",
      "\tis_pharmacy TEXT, \n",
      "\tobsolete_date TEXT\n",
      ")\n"
     ]
    },
    {
     "data": {
      "text/plain": [
       "\"[('DEMO-38790', 'DEMO-38790', '2021-01-02', '74472266', 'P', 'N', 'G', 'LACTULOSE', 5.46, 0.0, 0.0, 5.46, 473.0, 30, None, 0, 36.5014, None, 0.4, 5.06, 0.0, 110668, 'CVS PHARMACY #16127', 'CLACKAMAS', 'OR', '1', '00054348658', 'NDC', '10 G/15 ML', 'ROXANE LABS.', 'SOLUTION, ORAL', '2003-08-12', 'LACTULOSE', 'Constipation', 'CONSTIPATION', 'Physician Office'), ('DEMO-38790', 'DEMO-38790', '2021-01-02', '74472266', 'P', 'N', 'G', 'LACTULOSE', 5.46, 0.0, 0.0, 5.46, 473.0, 30, None, 0, 36.5014, None, 0.4, 5.06, 0.0, 110668, 'CVS PHARMACY #16127', 'CLACKAMAS', 'OR', '1', '00054348663', 'NDC', '10 G/15 ML', 'WEST-WARD/HIKMA', 'SOLUTION, ORAL', '2017-01-30', 'LACTULOSE', 'Constipation', 'CONSTIPATION', 'Physician Office'), ('DEMO-38790', 'DEMO-38790', '2021-01-02', '74472266', 'P', 'N', 'G', 'LACTULOSE', 5.46, 0.0, 0.0, 5.46, 473.0, 30, None, 0, 36.5014, None, 0.4, 5.06, 0.0, 110668, 'CVS PHARMACY #16127', 'CLACKAMAS', 'OR', '1', '00054348668', 'NDC', '10 G/15 ML', 'ROXANE LABS.', 'SOLUTION, ORAL', '2002-11-14', 'LACTULOSE', 'Constipation', 'CONSTIPATION', 'Physician Office'), ('DEMO-38790', 'DEMO-38790', '2021-01-02', '74472266', 'P', 'N', 'G', 'LACTULOSE', 5.46, 0.0, 0.0, 5.46, 473.0, 30, None, 0, 36.5014, None, 0.4, 5.06, 0.0, 110668, 'CVS PHARMACY #16127', 'CLACKAMAS', 'OR', '1', '00054848616', 'NDC', '20 G/30 ML', 'ROXANE LABS.', 'SOLUTION, ORAL', '2009-10-30', 'LACTULOSE', 'Constipation', 'CONSTIPATION', 'Physician Office'), ('DEMO-38790', 'DEMO-38790', '2021-01-02', '74472266', 'P', 'N', 'G', 'LACTULOSE', 5.46, 0.0, 0.0, 5.46, 473.0, 30, None, 0, 36.5014, None, 0.4, 5.06, 0.0, 110668, 'CVS PHARMACY #16127', 'CLACKAMAS', 'OR', '1', '00116400508', 'NDC', '10 G/15 ML', 'XTTRIUM LABS.', 'SOLUTION, ORAL', None, 'LACTULOSE', 'Constipation', 'CONSTIPATION', 'Physician Office'), ('DEMO-38790', 'DEMO-38790', '2021-01-02', '74472266', 'P', 'N', 'G', 'LACTULOSE', 5.46, 0.0, 0.0, 5.46, 473.0, 30, None, 0, 36.5014, None, 0.4, 5.06, 0.0, 110668, 'CVS PHARMACY #16127', 'CLACKAMAS', 'OR', '1', '00116400511', 'NDC', '20 G/30 ML', 'XTTRIUM LABS.', 'SOLUTION, ORAL', None, 'LACTULOSE', 'Constipation', 'CONSTIPATION', 'Physician Office'), ('DEMO-38790', 'DEMO-38790', '2021-01-02', '74472266', 'P', 'N', 'G', 'LACTULOSE', 5.46, 0.0, 0.0, 5.46, 473.0, 30, None, 0, 36.5014, None, 0.4, 5.06, 0.0, 110668, 'CVS PHARMACY #16127', 'CLACKAMAS', 'OR', '1', '00116400515', 'NDC', '10 G/15 ML', 'XTTRIUM LABS.', 'SOLUTION, ORAL', None, 'LACTULOSE', 'Constipation', 'CONSTIPATION', 'Physician Office'), ('DEMO-38790', 'DEMO-38790', '2021-01-02', '74472266', 'P', 'N', 'G', 'LACTULOSE', 5.46, 0.0, 0.0, 5.46, 473.0, 30, None, 0, 36.5014, None, 0.4, 5.06, 0.0, 110668, 'CVS PHARMACY #16127', 'CLACKAMAS', 'OR', '1', '00116400516', 'NDC', '10 G/15 ML', 'XTTRIUM LABS.', 'SOLUTION, ORAL', None, 'LACTULOSE', 'Constipation', 'CONSTIPATION', 'Physician Office'), ('DEMO-38790', 'DEMO-38790', '2021-01-02', '74472266', 'P', 'N', 'G', 'LACTULOSE', 5.46, 0.0, 0.0, 5.46, 473.0, 30, None, 0, 36.5014, None, 0.4, 5.06, 0.0, 110668, 'CVS PHARMACY #16127', 'CLACKAMAS', 'OR', '1', '00116400530', 'NDC', '20 G/30 ML', 'XTTRIUM LABS.', 'SOLUTION, ORAL', None, 'LACTULOSE', 'Constipation', 'CONSTIPATION', 'Physician Office'), ('DEMO-38790', 'DEMO-38790', '2021-01-02', '74472266', 'P', 'N', 'G', 'LACTULOSE', 5.46, 0.0, 0.0, 5.46, 473.0, 30, None, 0, 36.5014, None, 0.4, 5.06, 0.0, 110668, 'CVS PHARMACY #16127', 'CLACKAMAS', 'OR', '1', '00116400532', 'NDC', '10 G/15 ML', 'XTTRIUM LABS.', 'SOLUTION, ORAL', None, 'LACTULOSE', 'Constipation', 'CONSTIPATION', 'Physician Office')]\""
      ]
     },
     "execution_count": 6,
     "metadata": {},
     "output_type": "execute_result"
    }
   ],
   "source": [
    "from langchain_community.utilities import SQLDatabase\n",
    "\n",
    "db_path = \"../data/example.db\"\n",
    "if not os.path.exists(db_path):\n",
    "\traise FileNotFoundError(f\"Database file not found at {db_path}. Please check the path.\")\n",
    "\n",
    "db = SQLDatabase.from_uri(f\"sqlite:///{db_path}\",view_support=True)\n",
    "db._sample_rows_in_table_info = False\n",
    "print(db.dialect)\n",
    "print(db.get_table_info(['pharmacy_claims_drug_provider_view']))\n",
    "## print(db.get_usable_table_names())\n",
    "## db.run(\"SELECT name FROM pharmacy_claims_drug_provider_view LIMIT 10;\")\n",
    "db.run(\"SELECT * FROM pharmacy_claims_drug_provider_view LIMIT 10;\")"
   ]
  },
  {
   "cell_type": "code",
   "execution_count": 44,
   "id": "6d25b60a",
   "metadata": {},
   "outputs": [
    {
     "data": {
      "text/plain": [
       "'\\nCREATE TABLE \"Diseases\" (\\n\\t\"Curr_Rank\" INTEGER, \\n\\t\"Prev_Rank\" INTEGER, \\n\\t\"Disease\" VARCHAR(100), \\n\\t\"Utilizers\" INTEGER, \\n\\t\"Claims\" INTEGER, \\n\\t\"Plan_Cost\" DECIMAL(18, 2), \\n\\t\"Percent_of_Total_Plan_Cost\" DECIMAL(5, 2), \\n\\t\"Plan_Cost_PMPM\" DECIMAL(10, 2), \\n\\t\"Plan_Cost_Per_Claim\" DECIMAL(12, 2), \\n\\t\"Member_Cost_Share\" DECIMAL(5, 2), \\n\\t\"Prev_Utilizers\" INTEGER, \\n\\t\"Prev_Claims\" INTEGER, \\n\\t\"Prev_Plan_Cost\" DECIMAL(18, 2), \\n\\t\"Plan_Cost_Trend\" DECIMAL(6, 2), \\n\\t\"Claims_PMPM_Trend\" DECIMAL(6, 2), \\n\\t\"Plan_Cost_Per_Claim_Trend\" DECIMAL(6, 2), \\n\\t\"Plan_Cost_PMPM_Trend\" DECIMAL(6, 2), \\n\\tPRIMARY KEY (\"Disease\")\\n)\\n\\n\\nCREATE TABLE \"Drugs\" (\\n\\t\"Curr_Rank\" INTEGER, \\n\\t\"Prev_Rank\" INTEGER, \\n\\t\"Drug_Name\" VARCHAR(100), \\n\\t\"Category\" VARCHAR(100), \\n\\t\"Utilizers\" INTEGER, \\n\\t\"Claims\" INTEGER, \\n\\t\"Plan_Cost\" DECIMAL(18, 2), \\n\\t\"Percent_of_Total_Plan_Cost\" DECIMAL(5, 2), \\n\\t\"Plan_Cost_PMPM\" DECIMAL(10, 2), \\n\\t\"Plan_Cost_Per_Claim\" DECIMAL(12, 2), \\n\\t\"Member_Cost_Per_Claim\" DECIMAL(10, 2), \\n\\t\"Member_Cost_Share\" DECIMAL(5, 2), \\n\\t\"Prev_Utilizers\" INTEGER, \\n\\t\"Prev_Claims\" INTEGER, \\n\\t\"Prev_Plan_Cost\" DECIMAL(18, 2), \\n\\t\"Claims_PMPM_Trend\" DECIMAL(6, 2), \\n\\t\"Plan_Cost_Per_Claim_Trend\" DECIMAL(6, 2), \\n\\t\"Plan_Cost_PMPM_Trend\" DECIMAL(6, 2), \\n\\t\"Plan_Cost_Trend\" DECIMAL(6, 2), \\n\\t\"Srx\" BOOLEAN, \\n\\tPRIMARY KEY (\"Drug_Name\")\\n)'"
      ]
     },
     "execution_count": 44,
     "metadata": {},
     "output_type": "execute_result"
    }
   ],
   "source": [
    "db.get_usable_table_names()\n",
    "db.get_table_info([\"Drugs\",\"Diseases\"])"
   ]
  },
  {
   "cell_type": "code",
   "execution_count": 7,
   "id": "87d6cd1b",
   "metadata": {},
   "outputs": [
    {
     "name": "stdout",
     "output_type": "stream",
     "text": [
      "Response: content='The capital of India is New Delhi.' additional_kwargs={'refusal': None} response_metadata={'token_usage': {'completion_tokens': 8, 'prompt_tokens': 14, 'total_tokens': 22, 'completion_tokens_details': {'accepted_prediction_tokens': 0, 'audio_tokens': 0, 'reasoning_tokens': 0, 'rejected_prediction_tokens': 0}, 'prompt_tokens_details': {'audio_tokens': 0, 'cached_tokens': 0}}, 'model_name': 'gpt-4o-mini-2024-07-18', 'system_fingerprint': 'fp_34a54ae93c', 'id': 'chatcmpl-BoNKs2bOnB4ZJmZJ4LBIXiAwEQh1D', 'service_tier': 'default', 'finish_reason': 'stop', 'logprobs': None} id='run--76802ceb-d2e8-4f72-9eb6-b11d18a0ca20-0' usage_metadata={'input_tokens': 14, 'output_tokens': 8, 'total_tokens': 22, 'input_token_details': {'audio': 0, 'cache_read': 0}, 'output_token_details': {'audio': 0, 'reasoning': 0}}\n",
      "llm: client=<openai.resources.chat.completions.completions.Completions object at 0x11ba72fb0> async_client=<openai.resources.chat.completions.completions.AsyncCompletions object at 0x11ba72e90> root_client=<openai.OpenAI object at 0x10f9ceec0> root_async_client=<openai.AsyncOpenAI object at 0x11ba732e0> model_name='gpt-4o-mini' model_kwargs={} openai_api_key=SecretStr('**********')\n"
     ]
    }
   ],
   "source": [
    "import getpass\n",
    "import os\n",
    "\n",
    "if not os.environ.get(\"OPENAI_API_KEY\"):\n",
    "\tos.environ[\"OPENAI_API_KEY\"] = getpass.getpass(\"Enter API key for OpenAI: \")\n",
    "\n",
    "from langchain.chat_models import init_chat_model\n",
    "\n",
    "llm = init_chat_model(\"gpt-4o-mini\", model_provider=\"openai\")\n",
    "\n",
    "try:\n",
    "\tresponse = llm.invoke(\"What is the capital of India?\")\n",
    "\tprint(\"Response:\", response)\n",
    "except Exception as e:\n",
    "\tprint(\"Error connecting to OPENAI API:\", e)\n",
    "\tprint(\"Please check your internet connection, firewall settings, and API key.\")\n",
    "print(\"llm:\", llm)\n"
   ]
  },
  {
   "cell_type": "code",
   "execution_count": 8,
   "id": "089789c8",
   "metadata": {},
   "outputs": [],
   "source": [
    "from typing_extensions import TypedDict\n",
    "\n",
    "\n",
    "class State(TypedDict):\n",
    "    question: str # User's question to be answered.\n",
    "    query: str # SQL query generated from the question.\n",
    "    result: str # Result of the query execution in json.\n",
    "    answer: str  # Answer to the question based on the query result.\n",
    "    columns: list[str]  # List of column names in the result.\n",
    "    followup: list[str] # List of followup questions "
   ]
  },
  {
   "cell_type": "code",
   "execution_count": 9,
   "id": "746659ed",
   "metadata": {},
   "outputs": [
    {
     "name": "stdout",
     "output_type": "stream",
     "text": [
      "================================\u001b[1m System Message \u001b[0m================================\n",
      "\n",
      "\n",
      "Given an input question, create a syntactically correct \u001b[33;1m\u001b[1;3m{dialect}\u001b[0m query to\n",
      "run to help find the answer. Unless the user specifies in his question a\n",
      "specific number of examples they wish to obtain, always limit your query to\n",
      "at most \u001b[33;1m\u001b[1;3m{top_k}\u001b[0m results. You can order the results by a relevant column to\n",
      "return the most interesting examples in the database.\n",
      "\n",
      "Never query for all the columns from a specific table, only ask for a the\n",
      "few relevant columns given the question.\n",
      "\n",
      "Pay attention to use only the column names that you can see in the schema\n",
      "description. Be careful to not query for columns that do not exist. Also,\n",
      "pay attention to which column is in which table.\n",
      "\n",
      "DO NOT make any DML statements (INSERT, UPDATE, DELETE, DROP etc.) to the database.\n",
      "Output only 1 query even for multiple questions. \n",
      "All decimal numbers in the output should be formatted to only 2 digits after the decimal.\n",
      "Do not add any explanation. Do not add any comments.\n",
      "\n",
      "Only use the following tables:\n",
      "\u001b[33;1m\u001b[1;3m{table_info}\u001b[0m\n",
      "\n",
      "================================\u001b[1m Human Message \u001b[0m=================================\n",
      "\n",
      "Question: \u001b[33;1m\u001b[1;3m{input}\u001b[0m\n"
     ]
    }
   ],
   "source": [
    "from langchain_core.prompts import ChatPromptTemplate\n",
    "\n",
    "system_message = \"\"\"\n",
    "Given an input question, create a syntactically correct {dialect} query to\n",
    "run to help find the answer. Unless the user specifies in his question a\n",
    "specific number of examples they wish to obtain, always limit your query to\n",
    "at most {top_k} results. You can order the results by a relevant column to\n",
    "return the most interesting examples in the database.\n",
    "\n",
    "Never query for all the columns from a specific table, only ask for a the\n",
    "few relevant columns given the question.\n",
    "\n",
    "Pay attention to use only the column names that you can see in the schema\n",
    "description. Be careful to not query for columns that do not exist. Also,\n",
    "pay attention to which column is in which table.\n",
    "\n",
    "DO NOT make any DML statements (INSERT, UPDATE, DELETE, DROP etc.) to the database.\n",
    "Output only 1 query even for multiple questions. \n",
    "All decimal numbers in the output should be formatted to only 2 digits after the decimal.\n",
    "Do not add any explanation. Do not add any comments.\n",
    "\n",
    "Only use the following tables:\n",
    "{table_info}\n",
    "\"\"\"\n",
    "\n",
    "user_prompt = \"Question: {input}\"\n",
    "\n",
    "query_prompt_template = ChatPromptTemplate(\n",
    "    [(\"system\", system_message), (\"user\", user_prompt)]\n",
    ")\n",
    "\n",
    "for message in query_prompt_template.messages:\n",
    "    message.pretty_print()"
   ]
  },
  {
   "cell_type": "code",
   "execution_count": null,
   "id": "efcc5a88",
   "metadata": {},
   "outputs": [],
   "source": [
    "from typing_extensions import Annotated\n",
    "\n",
    "result = \"\"\n",
    "class QueryOutput(TypedDict):\n",
    "    \"\"\"Generated SQL query.\"\"\"\n",
    "\n",
    "    query: Annotated[str, ..., \"Syntactically valid SQL query.\"]\n",
    "\n",
    "\n",
    "def write_query(state: State):\n",
    "    \"\"\"Generate SQL query to fetch information.\"\"\"\n",
    "    prompt = query_prompt_template.invoke(\n",
    "        {\n",
    "            \"dialect\": db.dialect,\n",
    "            \"top_k\": 10,\n",
    "            \"table_info\": db.get_table_info(['pharmacy_claims_drug_provider_view']),\n",
    "            \"input\": state[\"question\"],\n",
    "        }\n",
    "    )\n",
    "    ## print(\"Prompt:\", prompt)\n",
    "    # print(\"Prompt:\", prompt.messages[1].content)\n",
    "\n",
    "    structured_llm = llm.with_structured_output(QueryOutput,include_raw=True)\n",
    "    result = structured_llm.invoke(prompt)\n",
    "    print(\"Input Tokens :\", result[\"raw\"].usage_metadata['input_tokens'], \", Output Tokens : \", result[\"raw\"].usage_metadata['output_tokens'])\n",
    "    print(\"Raw Result:\", result[\"raw\"])   \n",
    "    print(\"Tokens :\", getattr(result[\"raw\"], 'response_metadata', None)) \n",
    "    return {\"query\": result[\"raw\"]}"
   ]
  },
  {
   "cell_type": "code",
   "execution_count": 49,
   "id": "bf0ee77b",
   "metadata": {},
   "outputs": [
    {
     "data": {
      "text/plain": [
       "'\\nCREATE TABLE \"Diseases\" (\\n\\t\"Curr_Rank\" INTEGER, \\n\\t\"Prev_Rank\" INTEGER, \\n\\t\"Disease\" VARCHAR(100), \\n\\t\"Utilizers\" INTEGER, \\n\\t\"Claims\" INTEGER, \\n\\t\"Plan_Cost\" DECIMAL(18, 2), \\n\\t\"Percent_of_Total_Plan_Cost\" DECIMAL(5, 2), \\n\\t\"Plan_Cost_PMPM\" DECIMAL(10, 2), \\n\\t\"Plan_Cost_Per_Claim\" DECIMAL(12, 2), \\n\\t\"Member_Cost_Share\" DECIMAL(5, 2), \\n\\t\"Prev_Utilizers\" INTEGER, \\n\\t\"Prev_Claims\" INTEGER, \\n\\t\"Prev_Plan_Cost\" DECIMAL(18, 2), \\n\\t\"Plan_Cost_Trend\" DECIMAL(6, 2), \\n\\t\"Claims_PMPM_Trend\" DECIMAL(6, 2), \\n\\t\"Plan_Cost_Per_Claim_Trend\" DECIMAL(6, 2), \\n\\t\"Plan_Cost_PMPM_Trend\" DECIMAL(6, 2), \\n\\tPRIMARY KEY (\"Disease\")\\n)\\n\\n\\nCREATE TABLE \"Drugs\" (\\n\\t\"Curr_Rank\" INTEGER, \\n\\t\"Prev_Rank\" INTEGER, \\n\\t\"Drug_Name\" VARCHAR(100), \\n\\t\"Category\" VARCHAR(100), \\n\\t\"Utilizers\" INTEGER, \\n\\t\"Claims\" INTEGER, \\n\\t\"Plan_Cost\" DECIMAL(18, 2), \\n\\t\"Percent_of_Total_Plan_Cost\" DECIMAL(5, 2), \\n\\t\"Plan_Cost_PMPM\" DECIMAL(10, 2), \\n\\t\"Plan_Cost_Per_Claim\" DECIMAL(12, 2), \\n\\t\"Member_Cost_Per_Claim\" DECIMAL(10, 2), \\n\\t\"Member_Cost_Share\" DECIMAL(5, 2), \\n\\t\"Prev_Utilizers\" INTEGER, \\n\\t\"Prev_Claims\" INTEGER, \\n\\t\"Prev_Plan_Cost\" DECIMAL(18, 2), \\n\\t\"Claims_PMPM_Trend\" DECIMAL(6, 2), \\n\\t\"Plan_Cost_Per_Claim_Trend\" DECIMAL(6, 2), \\n\\t\"Plan_Cost_PMPM_Trend\" DECIMAL(6, 2), \\n\\t\"Plan_Cost_Trend\" DECIMAL(6, 2), \\n\\t\"Srx\" BOOLEAN, \\n\\tPRIMARY KEY (\"Drug_Name\")\\n)'"
      ]
     },
     "execution_count": 49,
     "metadata": {},
     "output_type": "execute_result"
    }
   ],
   "source": [
    "db.get_table_info([\"Drugs\",\"Diseases\"])"
   ]
  },
  {
   "cell_type": "code",
   "execution_count": 145,
   "id": "2a7d6164",
   "metadata": {},
   "outputs": [
    {
     "name": "stdout",
     "output_type": "stream",
     "text": [
      "Input Tokens : 400 , Output Tokens :  84\n",
      "Raw Result: content='{\"query\":\"SELECT strftime(\\'%Y-%m\\', fill_dt) AS month, SUM(net_mony) AS total_cost \\\\nFROM pharmacy_claims_drug_provider_view \\\\nWHERE strftime(\\'%Y-%m\\', fill_dt) IN (\\'2023-01\\', \\'2023-02\\', \\'2023-03\\') \\\\nGROUP BY month \\\\nORDER BY month \\\\nLIMIT 10;\"}' additional_kwargs={'parsed': None, 'refusal': None} response_metadata={'token_usage': {'completion_tokens': 84, 'prompt_tokens': 400, 'total_tokens': 484, 'completion_tokens_details': {'accepted_prediction_tokens': 0, 'audio_tokens': 0, 'reasoning_tokens': 0, 'rejected_prediction_tokens': 0}, 'prompt_tokens_details': {'audio_tokens': 0, 'cached_tokens': 0}}, 'model_name': 'gpt-4o-mini-2024-07-18', 'system_fingerprint': 'fp_62a23a81ef', 'id': 'chatcmpl-BodhG8gpMFBPAReMHbMZXOQ94demu', 'service_tier': 'default', 'finish_reason': 'stop', 'logprobs': None} id='run--ee4c2155-60ac-4757-a815-f4068b41c41d-0' usage_metadata={'input_tokens': 400, 'output_tokens': 84, 'total_tokens': 484, 'input_token_details': {'audio': 0, 'cache_read': 0}, 'output_token_details': {'audio': 0, 'reasoning': 0}}\n",
      "Tokens : {'token_usage': {'completion_tokens': 84, 'prompt_tokens': 400, 'total_tokens': 484, 'completion_tokens_details': {'accepted_prediction_tokens': 0, 'audio_tokens': 0, 'reasoning_tokens': 0, 'rejected_prediction_tokens': 0}, 'prompt_tokens_details': {'audio_tokens': 0, 'cached_tokens': 0}}, 'model_name': 'gpt-4o-mini-2024-07-18', 'system_fingerprint': 'fp_62a23a81ef', 'id': 'chatcmpl-BodhG8gpMFBPAReMHbMZXOQ94demu', 'service_tier': 'default', 'finish_reason': 'stop', 'logprobs': None}\n",
      "output :  {'query': AIMessage(content='{\"query\":\"SELECT strftime(\\'%Y-%m\\', fill_dt) AS month, SUM(net_mony) AS total_cost \\\\nFROM pharmacy_claims_drug_provider_view \\\\nWHERE strftime(\\'%Y-%m\\', fill_dt) IN (\\'2023-01\\', \\'2023-02\\', \\'2023-03\\') \\\\nGROUP BY month \\\\nORDER BY month \\\\nLIMIT 10;\"}', additional_kwargs={'parsed': None, 'refusal': None}, response_metadata={'token_usage': {'completion_tokens': 84, 'prompt_tokens': 400, 'total_tokens': 484, 'completion_tokens_details': {'accepted_prediction_tokens': 0, 'audio_tokens': 0, 'reasoning_tokens': 0, 'rejected_prediction_tokens': 0}, 'prompt_tokens_details': {'audio_tokens': 0, 'cached_tokens': 0}}, 'model_name': 'gpt-4o-mini-2024-07-18', 'system_fingerprint': 'fp_62a23a81ef', 'id': 'chatcmpl-BodhG8gpMFBPAReMHbMZXOQ94demu', 'service_tier': 'default', 'finish_reason': 'stop', 'logprobs': None}, id='run--ee4c2155-60ac-4757-a815-f4068b41c41d-0', usage_metadata={'input_tokens': 400, 'output_tokens': 84, 'total_tokens': 484, 'input_token_details': {'audio': 0, 'cache_read': 0}, 'output_token_details': {'audio': 0, 'reasoning': 0}})}\n"
     ]
    }
   ],
   "source": [
    "\n",
    "# Example usage of write_query function\n",
    "str_query = write_query({\"question\": \"Whats the Total cost for each month in Jan, Feb and Mar ?\"})\n",
    "print(\"output : \", str_query)"
   ]
  },
  {
   "cell_type": "code",
   "execution_count": 109,
   "id": "0a168261",
   "metadata": {},
   "outputs": [
    {
     "name": "stdout",
     "output_type": "stream",
     "text": [
      "Generated Query: {\"query\":\"SELECT strftime('%Y-%m', fill_dt) AS month, SUM(net_mony) AS total_cost\\nFROM pharmacy_claims_drug_provider_view\\nWHERE strftime('%m', fill_dt) IN ('01', '02', '03')\\nGROUP BY month\\nORDER BY month LIMIT 10;\"}\n",
      "Generated Query: SELECT strftime('%Y-%m', fill_dt) AS month, SUM(net_mony) AS total_cost\n",
      "FROM pharmacy_claims_drug_provider_view\n",
      "WHERE strftime('%m', fill_dt) IN ('01', '02', '03')\n",
      "GROUP BY month\n",
      "ORDER BY month LIMIT 10;\n"
     ]
    }
   ],
   "source": [
    "import json\n",
    "print(\"Generated Query:\", str_query[\"query\"].content)\n",
    "content_json = json.loads(str_query[\"query\"].content)\n",
    "\n",
    "print(\"Generated Query:\", content_json[\"query\"])"
   ]
  },
  {
   "cell_type": "code",
   "execution_count": 141,
   "id": "aeef8436",
   "metadata": {},
   "outputs": [
    {
     "name": "stdout",
     "output_type": "stream",
     "text": [
      "Token Info: 400 68\n",
      "Tokens : {'token_usage': {'completion_tokens': 68, 'prompt_tokens': 400, 'total_tokens': 468, 'completion_tokens_details': {'accepted_prediction_tokens': 0, 'audio_tokens': 0, 'reasoning_tokens': 0, 'rejected_prediction_tokens': 0}, 'prompt_tokens_details': {'audio_tokens': 0, 'cached_tokens': 0}}, 'model_name': 'gpt-4o-mini-2024-07-18', 'system_fingerprint': 'fp_62a23a81ef', 'id': 'chatcmpl-BodSTH4wbqBxuVeb9WsZ3wPJBfrIR', 'service_tier': 'default', 'finish_reason': 'stop', 'logprobs': None}\n"
     ]
    }
   ],
   "source": [
    "print(\"Token Info:\", str_query[\"query\"].usage_metadata[\"input_tokens\"], str_query[\"query\"].usage_metadata[\"output_tokens\"] )\n",
    "print(\"Tokens :\", getattr(str_query[\"query\"], 'response_metadata', None))"
   ]
  },
  {
   "cell_type": "code",
   "execution_count": 111,
   "id": "9c5b4f9d",
   "metadata": {},
   "outputs": [
    {
     "ename": "TypeError",
     "evalue": "string indices must be integers",
     "output_type": "error",
     "traceback": [
      "\u001b[0;31m---------------------------------------------------------------------------\u001b[0m",
      "\u001b[0;31mTypeError\u001b[0m                                 Traceback (most recent call last)",
      "Cell \u001b[0;32mIn[111], line 1\u001b[0m\n\u001b[0;32m----> 1\u001b[0m \u001b[38;5;28mprint\u001b[39m(\u001b[38;5;124m\"\u001b[39m\u001b[38;5;124mresult:\u001b[39m\u001b[38;5;124m\"\u001b[39m, \u001b[43mresult\u001b[49m\u001b[43m[\u001b[49m\u001b[38;5;124;43m\"\u001b[39;49m\u001b[38;5;124;43mraw\u001b[39;49m\u001b[38;5;124;43m\"\u001b[39;49m\u001b[43m]\u001b[49m)\n\u001b[1;32m      2\u001b[0m token_usage \u001b[38;5;241m=\u001b[39m \u001b[38;5;28mgetattr\u001b[39m(result, \u001b[38;5;124m'\u001b[39m\u001b[38;5;124mresponse_metadata\u001b[39m\u001b[38;5;124m'\u001b[39m, \u001b[38;5;28;01mNone\u001b[39;00m)\n\u001b[1;32m      3\u001b[0m \u001b[38;5;28;01mif\u001b[39;00m token_usage \u001b[38;5;129;01mand\u001b[39;00m \u001b[38;5;124m'\u001b[39m\u001b[38;5;124mtoken_usage\u001b[39m\u001b[38;5;124m'\u001b[39m \u001b[38;5;129;01min\u001b[39;00m token_usage:\n",
      "\u001b[0;31mTypeError\u001b[0m: string indices must be integers"
     ]
    }
   ],
   "source": [
    "print(\"result:\", result[\"raw\"])\n",
    "token_usage = getattr(result, 'response_metadata', None)\n",
    "if token_usage and 'token_usage' in token_usage:\n",
    "    usage = token_usage['token_usage']\n",
    "else:\n",
    "    usage = {}\n",
    "print(\"Token Usage:\", usage)"
   ]
  },
  {
   "cell_type": "code",
   "execution_count": 83,
   "id": "2c621aab",
   "metadata": {},
   "outputs": [
    {
     "name": "stdout",
     "output_type": "stream",
     "text": [
      "Generated Content: {'query': '{\"query\":\"SELECT strftime(\\'%Y-%m\\', fill_dt) AS month, SUM(net_mony) AS total_cost\\\\nFROM pharmacy_claims_drug_provider_view\\\\nWHERE strftime(\\'%m\\', fill_dt) IN (\\'01\\', \\'02\\', \\'03\\')\\\\nGROUP BY month\\\\nORDER BY month LIMIT 10;\"}'}\n"
     ]
    }
   ],
   "source": [
    "print (\"Generated Content:\", str_query)"
   ]
  },
  {
   "cell_type": "code",
   "execution_count": 51,
   "id": "fec5efdf",
   "metadata": {},
   "outputs": [],
   "source": [
    "from typing_extensions import Annotated\n",
    "\n",
    "class ColumnOutput(TypedDict):\n",
    "    columns: Annotated[list[str], \"List of column names in the SELECT statement, in order.\"]\n",
    "\n",
    "def extract_columns(state: State):\n",
    "    \"\"\"Use LLM to extract column names from the SQL query.\"\"\"\n",
    "    prompt = (\n",
    "        \"Given the following SQL query, list the column names that will appear in the result set, in order, as a Python list of strings.\\n\\n\"\n",
    "        f\"SQL Query:\\n{state['query']}\\n\\n\"\n",
    "        \"Columns:\"\n",
    "    )\n",
    "    structured_llm = llm.with_structured_output(ColumnOutput)\n",
    "    result = structured_llm.invoke(prompt)\n",
    "    return {\"columns\": result[\"columns\"]}"
   ]
  },
  {
   "cell_type": "code",
   "execution_count": 52,
   "id": "9e0d82fc",
   "metadata": {},
   "outputs": [],
   "source": [
    "from langchain_community.tools.sql_database.tool import QuerySQLDatabaseTool\n",
    "\n",
    "\n",
    "def execute_query(state: State):\n",
    "    \"\"\"Execute SQL query.\"\"\"\n",
    "    execute_query_tool = QuerySQLDatabaseTool(db=db)\n",
    "    str_result = execute_query_tool.invoke(state[\"query\"])\n",
    "    # print(\"Query:\", state[\"query\"])\n",
    "    return {\"result\": str_result}"
   ]
  },
  {
   "cell_type": "code",
   "execution_count": 53,
   "id": "bbc3b852",
   "metadata": {},
   "outputs": [],
   "source": [
    "from typing_extensions import Annotated\n",
    "\n",
    "class QuestionList(TypedDict):\n",
    "    questions: Annotated[list[str], \"List of followup questions.\"]\n",
    "\n",
    "def FollowupQuestions(state: State):\n",
    "    \"\"\"Use LLM to extract column names from the SQL query.\"\"\"\n",
    "    prompt = (\n",
    "        \"Given the following SQL query and Result, list the next 3 followup questions that might be relevant for the user.\\n\\n\"\n",
    "        f\"SQL Query:\\n{state['query']}\\n\\n\"\n",
    "        f\"Result:\\n{state['result']}\\n\\n\"\n",
    "        \"Follow-up Questions:\"\n",
    "    )\n",
    "    structured_llm = llm.with_structured_output(QuestionList)\n",
    "    print(\"Prompt:\", prompt)\n",
    "    result = structured_llm.invoke(prompt)\n",
    "    return {\"Followup_Questions\": result[\"questions\"]}"
   ]
  },
  {
   "cell_type": "code",
   "execution_count": 54,
   "id": "1687026f",
   "metadata": {},
   "outputs": [],
   "source": [
    "def generate_answer(state: State):\n",
    "    \"\"\"Answer question using retrieved information as context.\"\"\"\n",
    "    prompt = (\n",
    "        \"Given the following user question, corresponding SQL query, \"\n",
    "        \"and SQL result, answer the user question.\\n\\n\"\n",
    "        f'Question: {state[\"question\"]}\\n'\n",
    "        f'SQL Query: {state[\"query\"]}\\n'\n",
    "        f'SQL Result: {state[\"result\"]}'\n",
    "\n",
    "    )\n",
    "    response = llm.invoke(prompt)\n",
    "    return {\"answer\": response.content}"
   ]
  },
  {
   "cell_type": "code",
   "execution_count": 55,
   "id": "4da4bd75",
   "metadata": {},
   "outputs": [],
   "source": [
    "from langgraph.graph import START, StateGraph\n",
    "\n",
    "graph_builder = StateGraph(State).add_sequence(\n",
    "    [write_query, extract_columns, execute_query, generate_answer, FollowupQuestions]  # Insert extract_columns after write_query\n",
    ")\n",
    "graph_builder.add_edge(START, \"write_query\")\n",
    "graph = graph_builder.compile()"
   ]
  },
  {
   "cell_type": "code",
   "execution_count": 63,
   "id": "16957794",
   "metadata": {},
   "outputs": [
    {
     "name": "stdout",
     "output_type": "stream",
     "text": [
      "Prompt: messages=[SystemMessage(content='\\nGiven an input question, create a syntactically correct sqlite query to\\nrun to help find the answer. Unless the user specifies in his question a\\nspecific number of examples they wish to obtain, always limit your query to\\nat most 10 results. You can order the results by a relevant column to\\nreturn the most interesting examples in the database.\\n\\nNever query for all the columns from a specific table, only ask for a the\\nfew relevant columns given the question.\\n\\nPay attention to use only the column names that you can see in the schema\\ndescription. Be careful to not query for columns that do not exist. Also,\\npay attention to which column is in which table.\\n\\nDO NOT make any DML statements (INSERT, UPDATE, DELETE, DROP etc.) to the database.\\nOutput only 1 query even for multiple questions. \\nAll decimal numbers in the output should be formatted to only 2 digits after the decimal.\\nDo not add any explanation. Do not add any comments.\\n\\nOnly use the following tables:\\n\\nCREATE TABLE \"Cost_Of_Care\" (\\n\\t\"Member_ID\" VARCHAR(20), \\n\\t\"Diabetes_related_Percent_of_Total_Cost\" DECIMAL(5, 2), \\n\\t\"Diabetes_related_Drug_Percent_of_Total_Cost\" DECIMAL(5, 2), \\n\\t\"Diabetes_related_Specialty_Medical_Drug_Cost\" DECIMAL(18, 2), \\n\\t\"Diabetes_related_Medical_Other_Cost\" DECIMAL(18, 2), \\n\\t\"Diabetes_related_Pharmacy_Cost\" DECIMAL(18, 2), \\n\\t\"Diabetes_related_Count_of_Drugs\" INTEGER, \\n\\t\"Diabetes_related_Top_Drug\" VARCHAR(100), \\n\\t\"Diabetes_related_Inpatient_Days\" INTEGER, \\n\\t\"Diabetes_related_ER_Encounters\" INTEGER, \\n\\t\"Non_Diabetes_related_Medical_Cost\" DECIMAL(18, 2), \\n\\t\"Non_Diabetes_related_Pharmacy_Cost\" DECIMAL(18, 2), \\n\\t\"Total_Count_of_Drugs\" INTEGER, \\n\\t\"Total_Inpatient_Days\" INTEGER, \\n\\t\"Total_ER_Encounters\" INTEGER, \\n\\t\"Medical_Percent_of_Total_Cost\" DECIMAL(5, 2), \\n\\t\"Total_Cost\" DECIMAL(18, 2), \\n\\tFOREIGN KEY(\"Member_ID\") REFERENCES \"Members\" (\"Member_ID\"), \\n\\tFOREIGN KEY(\"Diabetes_related_Top_Drug\") REFERENCES \"Drugs\" (\"Drug_Name\")\\n)\\n\\n\\nCREATE TABLE \"Diseases\" (\\n\\t\"Curr_Rank\" INTEGER, \\n\\t\"Prev_Rank\" INTEGER, \\n\\t\"Disease\" VARCHAR(100), \\n\\t\"Utilizers\" INTEGER, \\n\\t\"Claims\" INTEGER, \\n\\t\"Plan_Cost\" DECIMAL(18, 2), \\n\\t\"Percent_of_Total_Plan_Cost\" DECIMAL(5, 2), \\n\\t\"Plan_Cost_PMPM\" DECIMAL(10, 2), \\n\\t\"Plan_Cost_Per_Claim\" DECIMAL(12, 2), \\n\\t\"Member_Cost_Share\" DECIMAL(5, 2), \\n\\t\"Prev_Utilizers\" INTEGER, \\n\\t\"Prev_Claims\" INTEGER, \\n\\t\"Prev_Plan_Cost\" DECIMAL(18, 2), \\n\\t\"Plan_Cost_Trend\" DECIMAL(6, 2), \\n\\t\"Claims_PMPM_Trend\" DECIMAL(6, 2), \\n\\t\"Plan_Cost_Per_Claim_Trend\" DECIMAL(6, 2), \\n\\t\"Plan_Cost_PMPM_Trend\" DECIMAL(6, 2), \\n\\tPRIMARY KEY (\"Disease\")\\n)\\n\\n\\nCREATE TABLE \"Diseases_By_Channel\" (\\n\\t\"Curr_Rank\" INTEGER, \\n\\t\"Prev_Rank\" INTEGER, \\n\\t\"Disease\" VARCHAR(100), \\n\\t\"Home_Infusion\" DECIMAL(18, 2), \\n\\t\"Outpatient_Hospital\" DECIMAL(18, 2), \\n\\t\"Physician_Office\" DECIMAL(18, 2), \\n\\t\"Pharmacy\" DECIMAL(18, 2), \\n\\t\"Total\" DECIMAL(18, 2)\\n)\\n\\n\\nCREATE TABLE \"Drugs\" (\\n\\t\"Curr_Rank\" INTEGER, \\n\\t\"Prev_Rank\" INTEGER, \\n\\t\"Drug_Name\" VARCHAR(100), \\n\\t\"Category\" VARCHAR(100), \\n\\t\"Utilizers\" INTEGER, \\n\\t\"Claims\" INTEGER, \\n\\t\"Plan_Cost\" DECIMAL(18, 2), \\n\\t\"Percent_of_Total_Plan_Cost\" DECIMAL(5, 2), \\n\\t\"Plan_Cost_PMPM\" DECIMAL(10, 2), \\n\\t\"Plan_Cost_Per_Claim\" DECIMAL(12, 2), \\n\\t\"Member_Cost_Per_Claim\" DECIMAL(10, 2), \\n\\t\"Member_Cost_Share\" DECIMAL(5, 2), \\n\\t\"Prev_Utilizers\" INTEGER, \\n\\t\"Prev_Claims\" INTEGER, \\n\\t\"Prev_Plan_Cost\" DECIMAL(18, 2), \\n\\t\"Claims_PMPM_Trend\" DECIMAL(6, 2), \\n\\t\"Plan_Cost_Per_Claim_Trend\" DECIMAL(6, 2), \\n\\t\"Plan_Cost_PMPM_Trend\" DECIMAL(6, 2), \\n\\t\"Plan_Cost_Trend\" DECIMAL(6, 2), \\n\\t\"Srx\" BOOLEAN, \\n\\tPRIMARY KEY (\"Drug_Name\")\\n)\\n\\n\\nCREATE TABLE \"Member_Costs\" (\\n\\t\"Member_ID\" VARCHAR(20), \\n\\t\"Member_DOB\" DATE, \\n\\t\"Category\" VARCHAR(100), \\n\\t\"Drug_Name\" VARCHAR(100), \\n\\t\"Claims\" INTEGER, \\n\\t\"Gross_Cost\" DECIMAL(18, 2), \\n\\t\"Plan_Cost\" DECIMAL(18, 2), \\n\\t\"Client\" VARCHAR(100), \\n\\t\"Group_1\" VARCHAR(100), \\n\\t\"Group_2\" VARCHAR(100), \\n\\t\"Group_3\" VARCHAR(100), \\n\\t\"Group_4\" VARCHAR(100), \\n\\t\"First_Name\" VARCHAR(50), \\n\\t\"Last_Name\" VARCHAR(50), \\n\\t\"Age\" INTEGER, \\n\\t\"Gender\" VARCHAR(10), \\n\\t\"City\" VARCHAR(100), \\n\\t\"State\" VARCHAR(10), \\n\\t\"Zip_Code\" VARCHAR(20), \\n\\t\"Member_Notes\" VARCHAR(255), \\n\\tFOREIGN KEY(\"Member_ID\") REFERENCES \"Members\" (\"Member_ID\"), \\n\\tFOREIGN KEY(\"Drug_Name\") REFERENCES \"Drugs\" (\"Drug_Name\"), \\n\\tFOREIGN KEY(\"Category\") REFERENCES \"Diseases\" (\"Disease\")\\n)\\n\\n\\nCREATE TABLE \"Members\" (\\n\\t\"Member_ID\" VARCHAR(20), \\n\\t\"Current_Period_Total\" DECIMAL(18, 2), \\n\\t\"Home_Infusion\" DECIMAL(18, 2), \\n\\t\"Outpatient_Hospital\" DECIMAL(18, 2), \\n\\t\"Physician_Office\" DECIMAL(18, 2), \\n\\t\"Pharmacy\" DECIMAL(18, 2), \\n\\t\"Previous_Period_Total\" DECIMAL(18, 2), \\n\\t\"Top_Category\" VARCHAR(100), \\n\\t\"Top_Category_Percent_of_Total\" DECIMAL(5, 2), \\n\\t\"Top_Diagnosis_Code\" VARCHAR(20), \\n\\t\"Top_Disease\" VARCHAR(100), \\n\\t\"Top_Disease_Percent_of_Total\" DECIMAL(5, 2), \\n\\t\"Member_Notes\" VARCHAR(255), \\n\\t\"Client\" VARCHAR(100), \\n\\t\"Group_1\" VARCHAR(100), \\n\\t\"Group_2\" VARCHAR(100), \\n\\t\"Group_3\" VARCHAR(100), \\n\\t\"Group_4\" VARCHAR(100), \\n\\t\"First_Name\" VARCHAR(50), \\n\\t\"Last_Name\" VARCHAR(50), \\n\\t\"DOB\" DATE, \\n\\t\"Age\" INTEGER, \\n\\t\"Gender\" VARCHAR(10), \\n\\t\"City\" VARCHAR(100), \\n\\t\"State\" VARCHAR(10), \\n\\t\"Zip_Code\" VARCHAR(20), \\n\\tPRIMARY KEY (\"Member_ID\")\\n)\\n\\n\\nCREATE TABLE \"Pharmacies\" (\\n\\t\"Pharmacy_ID\" VARCHAR(20), \\n\\t\"Pharmacy_Name\" VARCHAR(100), \\n\\t\"Current_Period_Total\" DECIMAL(18, 2), \\n\\t\"Home_Infusion\" DECIMAL(18, 2), \\n\\t\"Outpatient_Hospital\" DECIMAL(18, 2), \\n\\t\"Physician_Office\" DECIMAL(18, 2), \\n\\t\"Pharmacy\" DECIMAL(18, 2), \\n\\t\"Previous_Period_Total\" DECIMAL(18, 2), \\n\\tPRIMARY KEY (\"Pharmacy_ID\")\\n)\\n', additional_kwargs={}, response_metadata={}), HumanMessage(content='Question: Which are the most prevalent diseases among members of Plan Type A?', additional_kwargs={}, response_metadata={})]\n",
      "Step: {'write_query': {'query': \"SELECT Disease, Utilizers FROM Diseases WHERE Disease IN (SELECT Top_Disease FROM Members WHERE Client = 'Plan Type A') ORDER BY Utilizers DESC LIMIT 10;\"}}\n",
      "Query : SELECT Disease, Utilizers FROM Diseases WHERE Disease IN (SELECT Top_Disease FROM Members WHERE Client = 'Plan Type A') ORDER BY Utilizers DESC LIMIT 10;\n",
      "Step: {'extract_columns': {'columns': ['Disease', 'Utilizers']}}\n",
      "Query : SELECT Disease, Utilizers FROM Diseases WHERE Disease IN (SELECT Top_Disease FROM Members WHERE Client = 'Plan Type A') ORDER BY Utilizers DESC LIMIT 10;\n",
      "Step: {'execute_query': {'result': ''}}\n",
      "Query : SELECT Disease, Utilizers FROM Diseases WHERE Disease IN (SELECT Top_Disease FROM Members WHERE Client = 'Plan Type A') ORDER BY Utilizers DESC LIMIT 10;\n",
      "Step: {'generate_answer': {'answer': \"To answer your question about the most prevalent diseases among members of Plan Type A, we would need to look at the SQL result that lists the diseases and their corresponding number of utilizers. Unfortunately, the SQL result is not provided in your message. \\n\\nHowever, based on the SQL query, it retrieves the top diseases (up to 10) that have the highest number of utilizers among members classified under 'Plan Type A'. Once you provide the SQL result, I can help summarize and identify the most prevalent diseases accordingly.\"}}\n",
      "Query : SELECT Disease, Utilizers FROM Diseases WHERE Disease IN (SELECT Top_Disease FROM Members WHERE Client = 'Plan Type A') ORDER BY Utilizers DESC LIMIT 10;\n",
      "Prompt: Given the following SQL query and Result, list the next 3 followup questions that might be relevant for the user.\n",
      "\n",
      "SQL Query:\n",
      "SELECT Disease, Utilizers FROM Diseases WHERE Disease IN (SELECT Top_Disease FROM Members WHERE Client = 'Plan Type A') ORDER BY Utilizers DESC LIMIT 10;\n",
      "\n",
      "Result:\n",
      "\n",
      "\n",
      "Follow-up Questions:\n",
      "Step: {'FollowupQuestions': None}\n",
      "Query : SELECT Disease, Utilizers FROM Diseases WHERE Disease IN (SELECT Top_Disease FROM Members WHERE Client = 'Plan Type A') ORDER BY Utilizers DESC LIMIT 10;\n"
     ]
    }
   ],
   "source": [
    "str_query = \"\"\n",
    "str_result = \"\"\n",
    "str_answer = \"\"\n",
    "str_columns = []\n",
    "for step in graph.stream(\n",
    "    {\"question\": \"Which are the most prevalent diseases among members of Plan Type A?\"}, stream_mode=\"updates\"\n",
    "#    {\"question\": \"Can we see a breakdown of Aerosmith's revenue by album or track for each of those years to identify their top-performing content? ?\"}, stream_mode=\"updates\"\n",
    "):\n",
    "    print(\"Step:\", step)\n",
    "    if \"write_query\" in step:\n",
    "        str_query = step[\"write_query\"][\"query\"]\n",
    "    if \"execute_query\" in step:\n",
    "        str_result = step[\"execute_query\"][\"result\"]\n",
    "    if \"generate_answer\" in step:\n",
    "        str_answer = step[\"generate_answer\"][\"answer\"]\n",
    "    if \"extract_columns\" in step:\n",
    "        str_columns = step[\"extract_columns\"][\"columns\"]\n",
    "    if \"Followup_Questions\" in step:\n",
    "        followup_questions = step[\"FollowupQuestions\"][\"Followup_Questions\"]\n",
    "    print(\"Query :\", str_query)\n",
    "\n",
    "\n",
    "\n"
   ]
  }
 ],
 "metadata": {
  "kernelspec": {
   "display_name": ".venv",
   "language": "python",
   "name": "python3"
  },
  "language_info": {
   "codemirror_mode": {
    "name": "ipython",
    "version": 3
   },
   "file_extension": ".py",
   "mimetype": "text/x-python",
   "name": "python",
   "nbconvert_exporter": "python",
   "pygments_lexer": "ipython3",
   "version": "3.10.9"
  }
 },
 "nbformat": 4,
 "nbformat_minor": 5
}
